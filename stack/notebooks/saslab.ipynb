{
 "cells": [
  {
   "cell_type": "markdown",
   "id": "9640301c",
   "metadata": {},
   "source": [
    "https://github.com/saurfang/spark-sas7bdat"
   ]
  },
  {
   "cell_type": "code",
   "execution_count": null,
   "id": "50c0ac4c-6d05-409e-8686-62bc95e87a33",
   "metadata": {},
   "outputs": [],
   "source": [
    "spark"
   ]
  },
  {
   "cell_type": "code",
   "execution_count": null,
   "id": "ce85eb4f",
   "metadata": {},
   "outputs": [],
   "source": [
    "spark.sparkContext.getConf().get(\"spark.jars\")"
   ]
  },
  {
   "cell_type": "code",
   "execution_count": null,
   "id": "12a39bd6-2c77-43ee-aa71-d10bcf0a4a0e",
   "metadata": {},
   "outputs": [],
   "source": [
    "import os\n",
    "\n",
    "jar_dir = \"/opt/bitnami/spark/jars/\"  # ou /opt/spark/jars, dependendo da sua imagem\n",
    "jar_files = [f for f in os.listdir(jar_dir) if f.endswith(\".jar\")]\n",
    "print(jar_files)"
   ]
  }
 ],
 "metadata": {
  "kernelspec": {
   "display_name": ".conda",
   "language": "python",
   "name": "python3"
  },
  "language_info": {
   "codemirror_mode": {
    "name": "ipython",
    "version": 3
   },
   "file_extension": ".py",
   "mimetype": "text/x-python",
   "name": "python",
   "nbconvert_exporter": "python",
   "pygments_lexer": "ipython3",
   "version": "3.11.9"
  }
 },
 "nbformat": 4,
 "nbformat_minor": 5
}
